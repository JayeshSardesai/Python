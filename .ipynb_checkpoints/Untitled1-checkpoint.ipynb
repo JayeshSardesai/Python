{
 "cells": [
  {
   "cell_type": "code",
   "execution_count": 1,
   "id": "b3b64d6e-d19c-408a-98c3-71773f64d354",
   "metadata": {},
   "outputs": [],
   "source": [
    "import pandas as pd"
   ]
  },
  {
   "cell_type": "code",
   "execution_count": 25,
   "id": "669a24ad-2360-4b65-be08-fb31b7948578",
   "metadata": {},
   "outputs": [
    {
     "name": "stdout",
     "output_type": "stream",
     "text": [
      "     Sales Person    Country              Product       Date    Amount  \\\n",
      "0  Jehu Rudeforth         UK      Mint Chip Choco  04-Jan-22   $5,320    \n",
      "1     Van Tuxwell      India        85% Dark Bars  01-Aug-22   $7,896    \n",
      "2    Gigi Bohling      India  Peanut Butter Cubes  07-Jul-22   $4,501    \n",
      "3    Jan Morforth  Australia  Peanut Butter Cubes  27-Apr-22  $12,726    \n",
      "4  Jehu Rudeforth         UK  Peanut Butter Cubes  24-Feb-22  $13,685    \n",
      "\n",
      "   Boxes Shipped  \n",
      "0            180  \n",
      "1             94  \n",
      "2             91  \n",
      "3            342  \n",
      "4            184  \n"
     ]
    }
   ],
   "source": [
    "file=r\"E:\\Exel pdf's\\Ex.csv\"\n",
    "dataset=pd.read_csv(file)\n",
    "print(dataset.head())"
   ]
  },
  {
   "cell_type": "code",
   "execution_count": 27,
   "id": "c88520a7-0860-4edd-bef2-e6e04f8e60e2",
   "metadata": {},
   "outputs": [
    {
     "data": {
      "text/plain": [
       "(1094, 6)"
      ]
     },
     "execution_count": 27,
     "metadata": {},
     "output_type": "execute_result"
    }
   ],
   "source": [
    "dataset.shape"
   ]
  },
  {
   "cell_type": "code",
   "execution_count": 29,
   "id": "6e3e764c-3c21-495e-847c-01401389b15e",
   "metadata": {},
   "outputs": [
    {
     "name": "stdout",
     "output_type": "stream",
     "text": [
      "          Sales Person    Country              Product       Date    Amount  \\\n",
      "0       Jehu Rudeforth         UK      Mint Chip Choco  04-Jan-22   $5,320    \n",
      "1          Van Tuxwell      India        85% Dark Bars  01-Aug-22   $7,896    \n",
      "2         Gigi Bohling      India  Peanut Butter Cubes  07-Jul-22   $4,501    \n",
      "3         Jan Morforth  Australia  Peanut Butter Cubes  27-Apr-22  $12,726    \n",
      "4       Jehu Rudeforth         UK  Peanut Butter Cubes  24-Feb-22  $13,685    \n",
      "...                ...        ...                  ...        ...       ...   \n",
      "1089  Karlen McCaffrey  Australia  Spicy Special Slims  17-May-22   $4,410    \n",
      "1090    Jehu Rudeforth        USA           White Choc  07-Jun-22   $6,559    \n",
      "1091      Ches Bonnell     Canada  Organic Choco Syrup  26-Jul-22     $574    \n",
      "1092    Dotty Strutley      India              Eclairs  28-Jul-22   $2,086    \n",
      "1093  Karlen McCaffrey      India       70% Dark Bites  23-May-22   $5,075    \n",
      "\n",
      "      Boxes Shipped  \n",
      "0               180  \n",
      "1                94  \n",
      "2                91  \n",
      "3               342  \n",
      "4               184  \n",
      "...             ...  \n",
      "1089            323  \n",
      "1090            119  \n",
      "1091            217  \n",
      "1092            384  \n",
      "1093            344  \n",
      "\n",
      "[1094 rows x 6 columns]\n"
     ]
    }
   ],
   "source": [
    "print(dataset)"
   ]
  },
  {
   "cell_type": "code",
   "execution_count": 31,
   "id": "3957d938-3c21-4621-a180-d91ce35110da",
   "metadata": {},
   "outputs": [
    {
     "name": "stdout",
     "output_type": "stream",
     "text": [
      "     Sales Person    Country              Product       Date    Amount  \\\n",
      "0  Jehu Rudeforth         UK      Mint Chip Choco  04-Jan-22   $5,320    \n",
      "1     Van Tuxwell      India        85% Dark Bars  01-Aug-22   $7,896    \n",
      "2    Gigi Bohling      India  Peanut Butter Cubes  07-Jul-22   $4,501    \n",
      "3    Jan Morforth  Australia  Peanut Butter Cubes  27-Apr-22  $12,726    \n",
      "4  Jehu Rudeforth         UK  Peanut Butter Cubes  24-Feb-22  $13,685    \n",
      "\n",
      "   Boxes Shipped  \n",
      "0            180  \n",
      "1             94  \n",
      "2             91  \n",
      "3            342  \n",
      "4            184  \n"
     ]
    }
   ],
   "source": [
    "print(dataset.head())"
   ]
  },
  {
   "cell_type": "code",
   "execution_count": 45,
   "id": "a96afb19-bf74-42c8-8710-b560c9e8d26a",
   "metadata": {},
   "outputs": [
    {
     "ename": "AttributeError",
     "evalue": "'DataFrame' object has no attribute 'isNull'",
     "output_type": "error",
     "traceback": [
      "\u001b[1;31m---------------------------------------------------------------------------\u001b[0m",
      "\u001b[1;31mAttributeError\u001b[0m                            Traceback (most recent call last)",
      "\u001b[1;32m~\\AppData\\Local\\Temp\\ipykernel_6596\\1931299257.py\u001b[0m in \u001b[0;36m?\u001b[1;34m()\u001b[0m\n\u001b[1;32m----> 1\u001b[1;33m \u001b[0mdataset\u001b[0m\u001b[1;33m.\u001b[0m\u001b[0misNull\u001b[0m\u001b[1;33m(\u001b[0m\u001b[1;34m\"Date\"\u001b[0m\u001b[1;33m)\u001b[0m\u001b[1;33m\u001b[0m\u001b[1;33m\u001b[0m\u001b[0m\n\u001b[0m",
      "\u001b[1;32m~\\anaconda3\\Lib\\site-packages\\pandas\\core\\generic.py\u001b[0m in \u001b[0;36m?\u001b[1;34m(self, name)\u001b[0m\n\u001b[0;32m   6295\u001b[0m             \u001b[1;32mand\u001b[0m \u001b[0mname\u001b[0m \u001b[1;32mnot\u001b[0m \u001b[1;32min\u001b[0m \u001b[0mself\u001b[0m\u001b[1;33m.\u001b[0m\u001b[0m_accessors\u001b[0m\u001b[1;33m\u001b[0m\u001b[1;33m\u001b[0m\u001b[0m\n\u001b[0;32m   6296\u001b[0m             \u001b[1;32mand\u001b[0m \u001b[0mself\u001b[0m\u001b[1;33m.\u001b[0m\u001b[0m_info_axis\u001b[0m\u001b[1;33m.\u001b[0m\u001b[0m_can_hold_identifiers_and_holds_name\u001b[0m\u001b[1;33m(\u001b[0m\u001b[0mname\u001b[0m\u001b[1;33m)\u001b[0m\u001b[1;33m\u001b[0m\u001b[1;33m\u001b[0m\u001b[0m\n\u001b[0;32m   6297\u001b[0m         \u001b[1;33m)\u001b[0m\u001b[1;33m:\u001b[0m\u001b[1;33m\u001b[0m\u001b[1;33m\u001b[0m\u001b[0m\n\u001b[0;32m   6298\u001b[0m             \u001b[1;32mreturn\u001b[0m \u001b[0mself\u001b[0m\u001b[1;33m[\u001b[0m\u001b[0mname\u001b[0m\u001b[1;33m]\u001b[0m\u001b[1;33m\u001b[0m\u001b[1;33m\u001b[0m\u001b[0m\n\u001b[1;32m-> 6299\u001b[1;33m         \u001b[1;32mreturn\u001b[0m \u001b[0mobject\u001b[0m\u001b[1;33m.\u001b[0m\u001b[0m__getattribute__\u001b[0m\u001b[1;33m(\u001b[0m\u001b[0mself\u001b[0m\u001b[1;33m,\u001b[0m \u001b[0mname\u001b[0m\u001b[1;33m)\u001b[0m\u001b[1;33m\u001b[0m\u001b[1;33m\u001b[0m\u001b[0m\n\u001b[0m",
      "\u001b[1;31mAttributeError\u001b[0m: 'DataFrame' object has no attribute 'isNull'"
     ]
    }
   ],
   "source": [
    "dataset.isNull()"
   ]
  },
  {
   "cell_type": "code",
   "execution_count": null,
   "id": "12cffc9f-4b48-40bb-b852-a7e673bb5fda",
   "metadata": {},
   "outputs": [],
   "source": []
  }
 ],
 "metadata": {
  "kernelspec": {
   "display_name": "Python [conda env:base] *",
   "language": "python",
   "name": "conda-base-py"
  },
  "language_info": {
   "codemirror_mode": {
    "name": "ipython",
    "version": 3
   },
   "file_extension": ".py",
   "mimetype": "text/x-python",
   "name": "python",
   "nbconvert_exporter": "python",
   "pygments_lexer": "ipython3",
   "version": "3.12.7"
  }
 },
 "nbformat": 4,
 "nbformat_minor": 5
}
